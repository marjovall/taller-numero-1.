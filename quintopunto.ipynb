{
 "cells": [
  {
   "cell_type": "code",
   "execution_count": 7,
   "id": "c08cb29b-2eb2-4bac-a83c-6e87654aba59",
   "metadata": {},
   "outputs": [
    {
     "name": "stdin",
     "output_type": "stream",
     "text": [
      "Ingresa el primer número real:  5\n",
      "Ingresa el segundo número real:  2\n",
      "Ingresa el tercer número real:  7\n"
     ]
    },
    {
     "name": "stdout",
     "output_type": "stream",
     "text": [
      "La suma de  5.0 y 2.0 es  igual a 7.0  y es igual al tercer numero 7.0.\n"
     ]
    }
   ],
   "source": [
    "numero1 = float(input(\"Ingresa el primer número real: \"))\n",
    "numero2 = float(input(\"Ingresa el segundo número real: \"))\n",
    "numero3 = float(input(\"Ingresa el tercer número real: \"))\n",
    "suma = numero1 + numero2\n",
    "\n",
    "if suma > numero3:\n",
    "    print(f\"La suma  de  {numero1} y {numero2} es  igual a {suma}  y es mayor que  el tercer numero {numero3}.\")\n",
    "elif suma < numero3:\n",
    "    print(f\"La suma de  {numero1} y {numero2} es  igual a {suma} y  es menor que el tercer numero {numero3}.\")\n",
    "else:\n",
    "    print(f\"La suma de  {numero1} y {numero2} es  igual a {suma}  y es igual al tercer numero {numero3}.\")"
   ]
  },
  {
   "cell_type": "code",
   "execution_count": null,
   "id": "3a9e16b9-0c4f-4a7d-9435-2ca9dec6a9f0",
   "metadata": {},
   "outputs": [],
   "source": []
  }
 ],
 "metadata": {
  "kernelspec": {
   "display_name": "Python 3 (ipykernel)",
   "language": "python",
   "name": "python3"
  },
  "language_info": {
   "codemirror_mode": {
    "name": "ipython",
    "version": 3
   },
   "file_extension": ".py",
   "mimetype": "text/x-python",
   "name": "python",
   "nbconvert_exporter": "python",
   "pygments_lexer": "ipython3",
   "version": "3.11.5"
  }
 },
 "nbformat": 4,
 "nbformat_minor": 5
}
