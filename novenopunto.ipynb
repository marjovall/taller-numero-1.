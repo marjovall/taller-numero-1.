{
 "cells": [
  {
   "cell_type": "code",
   "execution_count": 2,
   "id": "1a25987d-4944-41dc-a2c5-d4a83a9de390",
   "metadata": {},
   "outputs": [
    {
     "name": "stdin",
     "output_type": "stream",
     "text": [
      "escriba el nombre de un pais en minusculas:  puerto rico\n"
     ]
    },
    {
     "name": "stdout",
     "output_type": "stream",
     "text": [
      "La capital es san juan\n"
     ]
    }
   ],
   "source": [
    "pais = input(\"escriba el nombre de un pais en minusculas: \")\n",
    "if pais == \"canada\":\n",
    "    print(\"La capital es toronto\")\n",
    "elif pais == \"estados unidos\":\n",
    "    print(\"la capital es washington\")\n",
    "elif pais == \"mexico\":\n",
    "    print(\"la capital es mexico d.f.\")\n",
    "elif pais == \"belice\":\n",
    "    print(\"La capital es belmopan\")\n",
    "elif pais == \"costa rica\":\n",
    "    print(\"La capital es san jose\")\n",
    "elif pais == \"el salvador\":\n",
    "    print(\"La capital es san salvador\")\n",
    "elif pais == \"guatemala\":\n",
    "    print(\"La capital es ciudad de guatemala\")\n",
    "elif pais == \"honduras\":\n",
    "    print(\"Las capitales son tegucigalpa y comayagüela\")\n",
    "elif pais == \"nicaragua\":\n",
    "    print(\"La capital es managua\")\n",
    "elif pais == \"panama\":\n",
    "    print(\"La capital es ciudad de panama\")\n",
    "elif pais == \"colombia\":\n",
    "    print(\"La capital es bogota\")\n",
    "elif pais == \"venezuela\":\n",
    "    print(\"La capital es caracas\")\n",
    "elif pais == \"peru\":\n",
    "    print(\"La capital es lima\")\n",
    "elif pais == \"bolivia\":\n",
    "    print(\"La capital es la paz\")\n",
    "elif pais == \"argentina\":\n",
    "    print(\"La capital es buenos aires\")\n",
    "elif pais == \"chile\":\n",
    "    print(\"La capital es santiago de chile\")\n",
    "elif pais == \"ecuador\":\n",
    "    print(\"La capital es quito\")\n",
    "elif pais == \"guyana\":\n",
    "    print(\"La capital es georgetown\")\n",
    "elif pais == \"paraguay\":\n",
    "    print(\"La capital es asuncion\")\n",
    "elif pais == \"surinam\":\n",
    "    print(\"La capital es paramaribo\")\n",
    "elif pais == \"trinidad y tobago\":\n",
    "    print(\"La capital es puerto españa\")\n",
    "elif pais == \"uruguay\":\n",
    "    print(\"La capital es montevideo\")\n",
    "elif pais == \"brasil\":\n",
    "    print(\"La capital es brasilia\")\n",
    "elif pais == \"guyana francesa\":\n",
    "    print(\"La capital es cayena\")\n",
    "elif pais == \"antigua y barbuda\":\n",
    "    print(\"La capital es saint john\")\n",
    "elif pais == \"bahamas\":\n",
    "    print(\"La capital es nasau\")\n",
    "elif pais == \"barbados\":\n",
    "    print(\"La capital es bridgetown\")\n",
    "elif pais == \"cuba\":\n",
    "    print(\"La capital es la habana\")\n",
    "elif pais == \"dominica\":\n",
    "    print(\"La capital es roseau\")\n",
    "elif pais == \"granada\":\n",
    "    print(\"La capital es saint george\")\n",
    "elif pais == \"haiti\":\n",
    "    print(\"La capital es puerto principe\")\n",
    "elif pais == \"jamaica\":\n",
    "    print(\"La capital es kingston\")\n",
    "elif pais == \"republica dominicana\":\n",
    "    print(\"La capital es santo domingo\")\n",
    "elif pais == \"san cristobal y nieves\":\n",
    "    print(\"La capital es basseterre\")\n",
    "elif pais == \"san vicente y las granbadinas\":\n",
    "    print(\"La capital es kingstown\")\n",
    "elif pais == \"santa lucia\":\n",
    "    print(\"La capital es castries\")\n",
    "elif pais == \"puerto rico\":\n",
    "    print(\"La capital es san juan\")\n",
    "else:\n",
    "    print(\"pais no identificado\")"
   ]
  },
  {
   "cell_type": "code",
   "execution_count": null,
   "id": "0ea734ab-e24f-47a7-a547-ad571cd1e843",
   "metadata": {},
   "outputs": [],
   "source": []
  }
 ],
 "metadata": {
  "kernelspec": {
   "display_name": "Python 3 (ipykernel)",
   "language": "python",
   "name": "python3"
  },
  "language_info": {
   "codemirror_mode": {
    "name": "ipython",
    "version": 3
   },
   "file_extension": ".py",
   "mimetype": "text/x-python",
   "name": "python",
   "nbconvert_exporter": "python",
   "pygments_lexer": "ipython3",
   "version": "3.11.5"
  }
 },
 "nbformat": 4,
 "nbformat_minor": 5
}
