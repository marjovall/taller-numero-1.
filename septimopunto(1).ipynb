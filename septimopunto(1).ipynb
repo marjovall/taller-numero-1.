{
 "cells": [
  {
   "cell_type": "code",
   "execution_count": 13,
   "id": "9c8dc257-9038-4104-92bf-6d9adc0fba0a",
   "metadata": {},
   "outputs": [
    {
     "name": "stdin",
     "output_type": "stream",
     "text": [
      "Ingresa el número :  54\n",
      "Ingresa el número :  87\n",
      "Ingresa el número :  54\n",
      "Ingresa el número :  78\n",
      "Ingresa el número :  1\n"
     ]
    },
    {
     "name": "stdout",
     "output_type": "stream",
     "text": [
      "Promedio: 54.8\n",
      "Mediana: 54.0\n",
      "Promedio multiplicativo: 28.7925596331765\n",
      "Números en orden ascendente: 1.0,54.0,54.0,78.0,87.0\n",
      "Números en orden descendente:  87.0,78.0,54.0,54.0,1.0\n",
      "Potencia del mayor al menor: 87.0\n",
      "Raíz cúbica del menor número: 1.0\n"
     ]
    }
   ],
   "source": [
    " n1 = float(input(f\"Ingresa el número : \"))\n",
    " n2 = float(input(f\"Ingresa el número : \"))\n",
    " n3 = float(input(f\"Ingresa el número : \"))\n",
    " n4 = float(input(f\"Ingresa el número : \"))\n",
    " n5 = float(input(f\"Ingresa el número : \"))\n",
    "\n",
    "# Calcula el promedio\n",
    "promedio = (n1 + n2 + n3 + n4 + n5) / 5\n",
    "\n",
    "# encuentra el numero minimo\n",
    "minimo = n1\n",
    "if n2 < minimo:\n",
    "    minimo = n2\n",
    "if n3 < minimo:\n",
    "    minimo = n3\n",
    "if n4 < minimo:\n",
    "    minimo = n4\n",
    "if n5 < minimo:\n",
    "    minimo = n5\n",
    "# Encuentra el número máximo\n",
    "maximo = n1\n",
    "if n2 > maximo:\n",
    "    maximo = n2\n",
    "if n3 > maximo:\n",
    "    maximo = n3\n",
    "if n4 > maximo:\n",
    "    maximo = n4\n",
    "if n5 > maximo:\n",
    "    maximo = n5\n",
    "# Calcula la mediana\n",
    "mediana = n3\n",
    "# Calcula el promedio multiplicativo\n",
    "producto_multiplicativo= (n1 * n2 * n3 * n4 * n5)**(1/5)\n",
    "# Ordena los números de forma descendente y ascendente \n",
    "if n1 > n2:\n",
    "    n1, n2 = n2, n1\n",
    "if n2 > n3:\n",
    "    n2, n3 = n3, n2\n",
    "if n3 > n4:\n",
    "    n3, n4 = n4, n3\n",
    "if n4 > n5:\n",
    "    n4, n5 = n5, n4\n",
    "if n1 > n2:\n",
    "    n1, n2 = n2, n1\n",
    "if n2 > n3:\n",
    "    n2, n3 = n3, n2\n",
    "if n3 > n4:\n",
    "    n3, n4 = n4, n3\n",
    "if n1 > n2:\n",
    "    n1, nu2 = n2, n1\n",
    "if n2 > n3:\n",
    "    n2, n3 = n3, n2\n",
    "if n1 > n2:\n",
    "    n1, n2 = n2, n1\n",
    "\n",
    "# Calcula la potencia del mayor número elevado al menor número\n",
    "potencia = maximo** minimo\n",
    "# Calcula la raíz cúbica del menor número\n",
    "raiz_cubica_menor = minimo ** (1 / 3)\n",
    "\n",
    "# Muestra los resultados\n",
    "print(f\"Promedio: {promedio}\")\n",
    "print(f\"Mediana: {mediana}\")\n",
    "print(f\"Promedio multiplicativo: {producto_multiplicativo}\")\n",
    "print(f\"Números en orden ascendente: {n1},{n2},{n3},{n4},{n5}\")\n",
    "print(f\"Números en orden descendente:  {n5},{n4},{n3},{n2},{n1}\")\n",
    "print(f\"Potencia del mayor al menor: {potencia}\")\n",
    "print(f\"Raíz cúbica del menor número: {raiz_cubica_menor}\")\n"
   ]
  },
  {
   "cell_type": "code",
   "execution_count": null,
   "id": "29da377e-a3db-452a-957d-f9928e66516b",
   "metadata": {},
   "outputs": [],
   "source": []
  }
 ],
 "metadata": {
  "kernelspec": {
   "display_name": "Python 3 (ipykernel)",
   "language": "python",
   "name": "python3"
  },
  "language_info": {
   "codemirror_mode": {
    "name": "ipython",
    "version": 3
   },
   "file_extension": ".py",
   "mimetype": "text/x-python",
   "name": "python",
   "nbconvert_exporter": "python",
   "pygments_lexer": "ipython3",
   "version": "3.11.5"
  }
 },
 "nbformat": 4,
 "nbformat_minor": 5
}
